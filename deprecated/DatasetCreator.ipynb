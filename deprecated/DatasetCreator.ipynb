{
 "cells": [
  {
   "cell_type": "markdown",
   "metadata": {},
   "source": [
    "# AlexNet Model\n",
    "\n",
    "**Contributors:** Donna Hooshmand\n",
    "\n",
    "Note that this Jupyter notebook has been deprecated and is not used by our final working version of the project.\n",
    "\n",
    "## instruction\n",
    "You have 2 Folders in the main folder!<br>\n",
    "Copy all the tarining images into train folder!<br>\n",
    "Copy all the testing images into test folder!<br>\n",
    "Don't add any files or folders to the main folder or any of the subfolders!<br>\n",
    "If you do so, you definitely break everything!<br>\n",
    "There shouldn't be any folders or files except the images in the train and test fodler!"
   ]
  },
  {
   "cell_type": "code",
   "execution_count": null,
   "metadata": {},
   "outputs": [],
   "source": [
    "import pandas as pd\n",
    "import numpy as np\n",
    "import matplotlib.pyplot as plt\n",
    "import cv2\n",
    "from os import listdir\n",
    "from os.path import isfile, join"
   ]
  },
  {
   "cell_type": "markdown",
   "metadata": {},
   "source": [
    "### Creating tarining Dataset!"
   ]
  },
  {
   "cell_type": "code",
   "execution_count": null,
   "metadata": {},
   "outputs": [],
   "source": [
    "onlyfiles = [f for f in listdir(\"train\") if isfile(join(\"train\", f))]"
   ]
  },
  {
   "cell_type": "code",
   "execution_count": null,
   "metadata": {},
   "outputs": [],
   "source": [
    "files_lenght = len(onlyfiles)"
   ]
  },
  {
   "cell_type": "code",
   "execution_count": null,
   "metadata": {},
   "outputs": [],
   "source": [
    "counter = 1\n",
    "all_images = []\n",
    "for i in onlyfiles:\n",
    "    img = cv2.imread(\"train/\"+i)\n",
    "    b, g, r = cv2.split(img)\n",
    "    img = cv2.merge((r,g,b))\n",
    "    #gray = cv2.cvtColor(img, cv2.COLOR_BGR2GRAY)\n",
    "    all_images.append([img,i])\n",
    "    if counter%10==0:\n",
    "        print(counter,\"/\",files_lenght, \"images loaded so far!\")\n",
    "    counter+=1\n",
    "print(files_lenght,\"/\",files_lenght)\n",
    "print(\"Finished!\")"
   ]
  },
  {
   "cell_type": "code",
   "execution_count": null,
   "metadata": {},
   "outputs": [],
   "source": [
    "plt.imshow(all_images[0][0])\n",
    "plt.show()"
   ]
  },
  {
   "cell_type": "code",
   "execution_count": null,
   "metadata": {},
   "outputs": [],
   "source": [
    "all_images[0][1]"
   ]
  },
  {
   "cell_type": "code",
   "execution_count": null,
   "metadata": {},
   "outputs": [],
   "source": [
    "col_list=[\"image_name\",\"target\"]\n",
    "tag = pd.read_csv(\"train.csv\", usecols=col_list)"
   ]
  },
  {
   "cell_type": "code",
   "execution_count": null,
   "metadata": {},
   "outputs": [],
   "source": [
    "print(len(all_images))\n",
    "print(len(tag.values))\n",
    "print(\"Both numbers appearing on the top of this line SHOULD be the same let me know if they are not!\")"
   ]
  },
  {
   "cell_type": "code",
   "execution_count": null,
   "metadata": {},
   "outputs": [],
   "source": [
    "counter = 1\n",
    "for i in range(len(all_images)):\n",
    "    for j in range(len(tag.values)):\n",
    "        if all_images[i][1]==tag.values[j][0]+\".jpg\":\n",
    "            if tag.values[j][1]==1:\n",
    "                all_images[i][1]=[0,1]\n",
    "            else:\n",
    "                all_images[i][1]=[1,0]\n",
    "            break\n",
    "    if counter%10==0:\n",
    "        print(counter,\"/\",files_lenght, \"images taged so far!\")\n",
    "    counter+=1\n",
    "print(files_lenght,\"/\",files_lenght)\n",
    "print(\"Finished!\")"
   ]
  },
  {
   "cell_type": "code",
   "execution_count": null,
   "metadata": {},
   "outputs": [],
   "source": [
    "for i in range(len(all_images)):\n",
    "    new = all_images[i][0]/255\n",
    "    all_images[i][0] = new"
   ]
  },
  {
   "cell_type": "code",
   "execution_count": null,
   "metadata": {},
   "outputs": [],
   "source": [
    "x_train = np.array([i[0] for i in all_images])\n",
    "print(x_train.shape)"
   ]
  },
  {
   "cell_type": "code",
   "execution_count": null,
   "metadata": {},
   "outputs": [],
   "source": [
    "y_train = np.array([i[1] for i in all_images])\n",
    "print(y_train.shape)"
   ]
  },
  {
   "cell_type": "code",
   "execution_count": null,
   "metadata": {},
   "outputs": [],
   "source": [
    "del onlyfiles, all_images, tag, col_list"
   ]
  },
  {
   "cell_type": "code",
   "execution_count": null,
   "metadata": {},
   "outputs": [],
   "source": [
    "np.save(\"x_train\",x_train)\n",
    "np.save(\"y_train\",y_train)"
   ]
  },
  {
   "cell_type": "code",
   "execution_count": null,
   "metadata": {},
   "outputs": [],
   "source": [
    "#x_train = np.load(\"x_train.npy\")\n",
    "#y_train = np.load(\"y_train.npy\")"
   ]
  },
  {
   "cell_type": "markdown",
   "metadata": {},
   "source": [
    "### END of creating training dataset"
   ]
  },
  {
   "cell_type": "markdown",
   "metadata": {},
   "source": [
    "### Creating testing Dataset!"
   ]
  },
  {
   "cell_type": "code",
   "execution_count": null,
   "metadata": {},
   "outputs": [],
   "source": [
    "onlyfiles = [f for f in listdir(\"test\") if isfile(join(\"test\", f))]"
   ]
  },
  {
   "cell_type": "code",
   "execution_count": null,
   "metadata": {},
   "outputs": [],
   "source": [
    "files_lenght = len(onlyfiles)"
   ]
  },
  {
   "cell_type": "code",
   "execution_count": null,
   "metadata": {},
   "outputs": [],
   "source": [
    "counter = 1\n",
    "all_images = []\n",
    "for i in onlyfiles:\n",
    "    img = cv2.imread(\"test/\"+i)\n",
    "    b, g, r = cv2.split(img)\n",
    "    img = cv2.merge((r,g,b))\n",
    "    #gray = cv2.cvtColor(img, cv2.COLOR_BGR2GRAY)\n",
    "    all_images.append([img,i])\n",
    "    if counter%10==0:\n",
    "            print(counter,\"/\",files_lenght, \"images loaded so far!\")\n",
    "    counter+=1\n",
    "print(files_lenght,\"/\",files_lenght)\n",
    "print(\"Finished!\")"
   ]
  },
  {
   "cell_type": "code",
   "execution_count": null,
   "metadata": {},
   "outputs": [],
   "source": [
    "plt.imshow(all_images[0][0])\n",
    "plt.show()"
   ]
  },
  {
   "cell_type": "code",
   "execution_count": null,
   "metadata": {},
   "outputs": [],
   "source": [
    "print(len(all_images))"
   ]
  },
  {
   "cell_type": "code",
   "execution_count": null,
   "metadata": {},
   "outputs": [],
   "source": [
    "for i in range(len(all_images)):\n",
    "    new = all_images[i][0]/255\n",
    "    all_images[i][0] = new"
   ]
  },
  {
   "cell_type": "code",
   "execution_count": null,
   "metadata": {},
   "outputs": [],
   "source": [
    "x_test = np.array([i[0] for i in all_images])\n",
    "print(x_test.shape)"
   ]
  },
  {
   "cell_type": "code",
   "execution_count": null,
   "metadata": {},
   "outputs": [],
   "source": [
    "del onlyfiles, all_images"
   ]
  },
  {
   "cell_type": "code",
   "execution_count": null,
   "metadata": {},
   "outputs": [],
   "source": [
    "np.save(\"x_test\",x_train)"
   ]
  },
  {
   "cell_type": "code",
   "execution_count": null,
   "metadata": {},
   "outputs": [],
   "source": [
    "#x_test = np.load(\"x_test.npy\")"
   ]
  },
  {
   "cell_type": "markdown",
   "metadata": {},
   "source": [
    "### END of creating tese dataset"
   ]
  }
 ],
 "metadata": {
  "kernelspec": {
   "display_name": "Python 3",
   "language": "python",
   "name": "python3"
  },
  "language_info": {
   "codemirror_mode": {
    "name": "ipython",
    "version": 3
   },
   "file_extension": ".py",
   "mimetype": "text/x-python",
   "name": "python",
   "nbconvert_exporter": "python",
   "pygments_lexer": "ipython3",
   "version": "3.6.7"
  }
 },
 "nbformat": 4,
 "nbformat_minor": 2
}